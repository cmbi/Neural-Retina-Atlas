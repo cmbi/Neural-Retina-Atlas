{
 "cells": [
  {
   "cell_type": "markdown",
   "metadata": {},
   "source": [
    "# Import"
   ]
  },
  {
   "cell_type": "code",
   "execution_count": 1,
   "metadata": {},
   "outputs": [],
   "source": [
    "import pandas as pd"
   ]
  },
  {
   "cell_type": "markdown",
   "metadata": {},
   "source": [
    "# Isoforms"
   ]
  },
  {
   "cell_type": "code",
   "execution_count": 2,
   "metadata": {},
   "outputs": [
    {
     "name": "stdout",
     "output_type": "stream",
     "text": [
      "SQANTI3 isoforms:  353381\n",
      "SQANTI3 novel isoforms:  130796\n"
     ]
    }
   ],
   "source": [
    "# import the SQANTI3 transcripts\n",
    "sqanti = pd.read_csv('../data/transcriptomics/sqanti/all_samples.chained.min_fl_2.filtered_RulesFilter_result_classification.txt', sep = '\\t')\n",
    "print('SQANTI3 isoforms: ', len(sqanti.index))\n",
    "print('SQANTI3 novel isoforms: ', sqanti.structural_category.value_counts()['novel_in_catalog'] + sqanti.structural_category.value_counts()['novel_not_in_catalog'])"
   ]
  },
  {
   "cell_type": "code",
   "execution_count": 3,
   "metadata": {},
   "outputs": [
    {
     "name": "stdout",
     "output_type": "stream",
     "text": [
      "TALON isoforms:  188346\n",
      "TALON novel isoforms:  51477\n"
     ]
    }
   ],
   "source": [
    "# Import the TALON transcripts\n",
    "talon = pd.read_csv('../data/transcriptomics/talon/venice_talon_abundance_filtered_fl.tsv', sep = '\\t')\n",
    "print('TALON isoforms: ', len(talon.index))\n",
    "print('TALON novel isoforms: ', talon.transcript_novelty.value_counts()['NIC'] + talon.transcript_novelty.value_counts()['NNC'])"
   ]
  },
  {
   "cell_type": "markdown",
   "metadata": {},
   "source": [
    "# Number of novel ORFs"
   ]
  },
  {
   "cell_type": "code",
   "execution_count": 5,
   "metadata": {},
   "outputs": [
    {
     "name": "stdout",
     "output_type": "stream",
     "text": [
      "20330\n"
     ]
    }
   ],
   "source": [
    "# SQANTI3\n",
    "! grep -c '>pb|' ../data/proteomics/sqanti/15_hybrid_database/hnr_50_hybrid.fasta"
   ]
  },
  {
   "cell_type": "code",
   "execution_count": 6,
   "metadata": {},
   "outputs": [
    {
     "name": "stdout",
     "output_type": "stream",
     "text": [
      "24892\n"
     ]
    }
   ],
   "source": [
    "# TALON\n",
    "! grep -c '>pb|' ../data/proteomics/talon/15_hybrid_database/hnr_50_hybrid.fasta"
   ]
  },
  {
   "cell_type": "markdown",
   "metadata": {},
   "source": [
    "# Number of peptides"
   ]
  },
  {
   "cell_type": "code",
   "execution_count": 8,
   "metadata": {},
   "outputs": [
    {
     "name": "stdout",
     "output_type": "stream",
     "text": [
      "Number of sqanti peptides: 33539\n",
      "Number of novel sqanti peptides: 49\n",
      "Number of talon peptides: 33450\n",
      "Number of novel talon peptides: 66\n"
     ]
    }
   ],
   "source": [
    "for database in ['sqanti', 'talon']:\n",
    "    trypsin = pd.read_csv('../data/proteomics/{}/16_MSFragger/trypsin/peptide.tsv'.format(database), sep = '\\t')\n",
    "    chymotrypsin = pd.read_csv('../data/proteomics/{}/16_MSFragger/chymotrypsin/peptide.tsv'.format(database), sep = '\\t')\n",
    "    aspnlysc = pd.read_csv('../data/proteomics/{}/16_MSFragger/aspn_lysc/peptide.tsv'.format(database), sep = '\\t')\n",
    "\n",
    "    unique_peptides = set(trypsin.Peptide.tolist() + chymotrypsin.Peptide.tolist() + aspnlysc.Peptide.tolist())\n",
    "    print('Number of {} peptides: {}'.format(database, len(unique_peptides)))\n",
    "\n",
    "    trypsin_novel = pd.read_csv('../data/proteomics/{}/17_novel_peptides/trypsin.pacbio_novel_peptides_to_gencode.tsv'.format(database), sep = '\\t')\n",
    "    chymotrypsin_novel = pd.read_csv('../data/proteomics/{}/17_novel_peptides/chymotrypsin.pacbio_novel_peptides_to_gencode.tsv'.format(database), sep = '\\t')\n",
    "    aspnlysc_novel = pd.read_csv('../data/proteomics/{}/17_novel_peptides/aspn_lysc.pacbio_novel_peptides_to_gencode.tsv'.format(database), sep = '\\t')\n",
    "\n",
    "    unique_novel_peptides = set(trypsin_novel.seq.tolist() + chymotrypsin_novel.seq.tolist() + aspnlysc_novel.seq.tolist())\n",
    "    print('Number of novel {} peptides: {}'.format(database, len(unique_novel_peptides)))"
   ]
  }
 ],
 "metadata": {
  "kernelspec": {
   "display_name": "plots",
   "language": "python",
   "name": "python3"
  },
  "language_info": {
   "codemirror_mode": {
    "name": "ipython",
    "version": 3
   },
   "file_extension": ".py",
   "mimetype": "text/x-python",
   "name": "python",
   "nbconvert_exporter": "python",
   "pygments_lexer": "ipython3",
   "version": "3.11.2"
  },
  "orig_nbformat": 4
 },
 "nbformat": 4,
 "nbformat_minor": 2
}
