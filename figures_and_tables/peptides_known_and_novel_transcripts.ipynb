{
 "cells": [
  {
   "cell_type": "code",
   "execution_count": 1,
   "metadata": {},
   "outputs": [],
   "source": [
    "import pandas as pd\n",
    "import numpy as np"
   ]
  },
  {
   "cell_type": "code",
   "execution_count": 2,
   "metadata": {},
   "outputs": [],
   "source": [
    "trypsin = pd.read_csv('../data/proteomics/isoquant/trypsin_peptide.tsv', sep = '\\t')\n",
    "chymotrypsin = pd.read_csv('../data/proteomics/isoquant/chymotrypsin_peptide.tsv', sep = '\\t')\n",
    "aspnlysc = pd.read_csv('../data/proteomics/isoquant/aspnlysc_peptide.tsv', sep = '\\t')"
   ]
  },
  {
   "cell_type": "code",
   "execution_count": 3,
   "metadata": {},
   "outputs": [],
   "source": [
    "trypsin['all_mapped_proteins'] = trypsin.apply(\n",
    "    lambda row: row['Protein'] if pd.isna(row['Mapped Proteins']) or row['Mapped Proteins'] == '' else (row['Protein'] + ', ' + row['Mapped Proteins']),\n",
    "    axis=1\n",
    ")\n",
    "trypsin['all_mapped_proteins'] = trypsin['all_mapped_proteins'].str.split(',')\n",
    "\n",
    "chymotrypsin['all_mapped_proteins'] = chymotrypsin.apply(\n",
    "    lambda row: row['Protein'] if pd.isna(row['Mapped Proteins']) or row['Mapped Proteins'] == '' else (row['Protein'] + ', ' + row['Mapped Proteins']),\n",
    "    axis=1\n",
    ")\n",
    "chymotrypsin['all_mapped_proteins'] = chymotrypsin['all_mapped_proteins'].str.split(',')\n",
    "\n",
    "aspnlysc['all_mapped_proteins'] = aspnlysc.apply(\n",
    "    lambda row: row['Protein'] if pd.isna(row['Mapped Proteins']) or row['Mapped Proteins'] == '' else (row['Protein'] + ', ' + row['Mapped Proteins']),\n",
    "    axis=1\n",
    ")\n",
    "aspnlysc['all_mapped_proteins'] = aspnlysc['all_mapped_proteins'].str.split(',')\n",
    "\n",
    "\n",
    "combined = pd.concat([trypsin[['Peptide', 'all_mapped_proteins']], chymotrypsin[['Peptide', 'all_mapped_proteins']], aspnlysc[['Peptide', 'all_mapped_proteins']]])\n",
    "unique_peptides = combined.drop_duplicates(subset=['Peptide'])"
   ]
  },
  {
   "cell_type": "code",
   "execution_count": 4,
   "metadata": {},
   "outputs": [
    {
     "name": "stdout",
     "output_type": "stream",
     "text": [
      "unqiue GC peptides:  20723\n",
      "unqiue pb peptides:  12\n",
      "both:  12713\n"
     ]
    }
   ],
   "source": [
    "gc_count = 0\n",
    "pb_count = 0\n",
    "both_count = 0\n",
    "    \n",
    "for index,row in unique_peptides.iterrows():\n",
    "    proteins = row['all_mapped_proteins']\n",
    "    try:\n",
    "        proteins = [i.strip() for i in proteins]\n",
    "    except:\n",
    "        print(row)\n",
    "    \n",
    "    # Check if peptide maps only to 'gc', 'pb', or both\n",
    "    gc_mapped = any('gc|' in protein for protein in proteins)\n",
    "    pb_mapped = any('pb|' in protein for protein in proteins)\n",
    "\n",
    "    if gc_mapped and not pb_mapped:\n",
    "        gc_count += 1\n",
    "    elif pb_mapped and not gc_mapped:\n",
    "        pb_count += 1\n",
    "    elif gc_mapped and pb_mapped:\n",
    "        both_count += 1\n",
    "        \n",
    "print('unqiue GC peptides: ', gc_count)\n",
    "print('unqiue pb peptides: ', pb_count)\n",
    "print('both: ', both_count)\n"
   ]
  },
  {
   "cell_type": "code",
   "execution_count": 5,
   "metadata": {},
   "outputs": [
    {
     "name": "stdout",
     "output_type": "stream",
     "text": [
      "gencode:  15589\n",
      "pacbio:  2335\n"
     ]
    }
   ],
   "source": [
    "# How many known isoforms are validated with a unique peptide?\n",
    "\n",
    "all_proteins = []\n",
    "\n",
    "for index,row in unique_peptides.iterrows():\n",
    "    proteins = row['all_mapped_proteins']\n",
    "    proteins = [i.strip() for i in proteins]\n",
    "    for i in proteins:\n",
    "        all_proteins.append(i)\n",
    "\n",
    "gencode = set([i for i in all_proteins if i.startswith('gc')])\n",
    "pacbio  = set([i for i in all_proteins if i.startswith('pb')])\n",
    "\n",
    "print('gencode: ', len(gencode))\n",
    "print('pacbio: ', len(pacbio))"
   ]
  }
 ],
 "metadata": {
  "kernelspec": {
   "display_name": "plots",
   "language": "python",
   "name": "python3"
  },
  "language_info": {
   "codemirror_mode": {
    "name": "ipython",
    "version": 3
   },
   "file_extension": ".py",
   "mimetype": "text/x-python",
   "name": "python",
   "nbconvert_exporter": "python",
   "pygments_lexer": "ipython3",
   "version": "3.11.2"
  }
 },
 "nbformat": 4,
 "nbformat_minor": 2
}
