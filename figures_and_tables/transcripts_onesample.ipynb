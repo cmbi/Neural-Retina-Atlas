{
 "cells": [
  {
   "cell_type": "code",
   "execution_count": 1,
   "metadata": {},
   "outputs": [
    {
     "name": "stderr",
     "output_type": "stream",
     "text": [
      "Matplotlib is building the font cache; this may take a moment.\n"
     ]
    }
   ],
   "source": [
    "import pandas as pd\n",
    "import sys\n",
    "sys.path.insert(1, '../scripts/')\n",
    "import utils\n",
    "import seaborn as sns\n",
    "import matplotlib.pyplot as plt\n",
    "import numpy as np"
   ]
  },
  {
   "cell_type": "code",
   "execution_count": 2,
   "metadata": {},
   "outputs": [
    {
     "data": {
      "text/html": [
       "<div>\n",
       "<style scoped>\n",
       "    .dataframe tbody tr th:only-of-type {\n",
       "        vertical-align: middle;\n",
       "    }\n",
       "\n",
       "    .dataframe tbody tr th {\n",
       "        vertical-align: top;\n",
       "    }\n",
       "\n",
       "    .dataframe thead th {\n",
       "        text-align: right;\n",
       "    }\n",
       "</style>\n",
       "<table border=\"1\" class=\"dataframe\">\n",
       "  <thead>\n",
       "    <tr style=\"text-align: right;\">\n",
       "      <th></th>\n",
       "      <th>#feature_id</th>\n",
       "      <th>Sample 1</th>\n",
       "      <th>Sample 2</th>\n",
       "      <th>Sample 3</th>\n",
       "    </tr>\n",
       "  </thead>\n",
       "  <tbody>\n",
       "    <tr>\n",
       "      <th>0</th>\n",
       "      <td>ENST00000003583.12</td>\n",
       "      <td>6.0</td>\n",
       "      <td>24.0</td>\n",
       "      <td>19.0</td>\n",
       "    </tr>\n",
       "    <tr>\n",
       "      <th>1</th>\n",
       "      <td>ENST00000010299.10</td>\n",
       "      <td>0.0</td>\n",
       "      <td>1.0</td>\n",
       "      <td>0.0</td>\n",
       "    </tr>\n",
       "    <tr>\n",
       "      <th>2</th>\n",
       "      <td>ENST00000040877.2</td>\n",
       "      <td>1.0</td>\n",
       "      <td>1.0</td>\n",
       "      <td>4.0</td>\n",
       "    </tr>\n",
       "    <tr>\n",
       "      <th>3</th>\n",
       "      <td>ENST00000054650.9</td>\n",
       "      <td>1.0</td>\n",
       "      <td>17.0</td>\n",
       "      <td>13.0</td>\n",
       "    </tr>\n",
       "    <tr>\n",
       "      <th>4</th>\n",
       "      <td>ENST00000054666.11</td>\n",
       "      <td>32.0</td>\n",
       "      <td>42.0</td>\n",
       "      <td>86.0</td>\n",
       "    </tr>\n",
       "  </tbody>\n",
       "</table>\n",
       "</div>"
      ],
      "text/plain": [
       "          #feature_id  Sample 1  Sample 2  Sample 3\n",
       "0  ENST00000003583.12       6.0      24.0      19.0\n",
       "1  ENST00000010299.10       0.0       1.0       0.0\n",
       "2   ENST00000040877.2       1.0       1.0       4.0\n",
       "3   ENST00000054650.9       1.0      17.0      13.0\n",
       "4  ENST00000054666.11      32.0      42.0      86.0"
      ]
     },
     "execution_count": 2,
     "metadata": {},
     "output_type": "execute_result"
    }
   ],
   "source": [
    "\n",
    "# Load the transcript counts\n",
    "transcript_counts = pd.read_csv('../data/transcriptomics/isoquant/isoquant_aln.sorted.transcript_model_grouped_counts.tsv', sep = '\\t')\n",
    "transcript_counts = transcript_counts.rename(columns = {'s1':'Sample 1', 's2':'Sample 2', 's3': 'Sample 3'})\n",
    "transcript_counts.head()"
   ]
  },
  {
   "cell_type": "code",
   "execution_count": 3,
   "metadata": {},
   "outputs": [
    {
     "name": "stdout",
     "output_type": "stream",
     "text": [
      " known:  2730  novel:  0\n",
      " known:  3336  novel:  8\n",
      " known:  3247  novel:  0\n"
     ]
    },
    {
     "data": {
      "text/html": [
       "<div>\n",
       "<style scoped>\n",
       "    .dataframe tbody tr th:only-of-type {\n",
       "        vertical-align: middle;\n",
       "    }\n",
       "\n",
       "    .dataframe tbody tr th {\n",
       "        vertical-align: top;\n",
       "    }\n",
       "\n",
       "    .dataframe thead th {\n",
       "        text-align: right;\n",
       "    }\n",
       "</style>\n",
       "<table border=\"1\" class=\"dataframe\">\n",
       "  <thead>\n",
       "    <tr style=\"text-align: right;\">\n",
       "      <th></th>\n",
       "      <th>#feature_id</th>\n",
       "      <th>Sample 1</th>\n",
       "      <th>Sample 2</th>\n",
       "      <th>Sample 3</th>\n",
       "    </tr>\n",
       "  </thead>\n",
       "  <tbody>\n",
       "    <tr>\n",
       "      <th>9104</th>\n",
       "      <td>transcript24899.chr2.nnic</td>\n",
       "      <td>0.0</td>\n",
       "      <td>6.0</td>\n",
       "      <td>0.0</td>\n",
       "    </tr>\n",
       "    <tr>\n",
       "      <th>9534</th>\n",
       "      <td>transcript3418.chr2.nnic</td>\n",
       "      <td>0.0</td>\n",
       "      <td>3.0</td>\n",
       "      <td>0.0</td>\n",
       "    </tr>\n",
       "    <tr>\n",
       "      <th>12730</th>\n",
       "      <td>transcript16988.chr3.nnic</td>\n",
       "      <td>0.0</td>\n",
       "      <td>4.0</td>\n",
       "      <td>0.0</td>\n",
       "    </tr>\n",
       "    <tr>\n",
       "      <th>24171</th>\n",
       "      <td>transcript14605.chr7.nnic</td>\n",
       "      <td>0.0</td>\n",
       "      <td>4.0</td>\n",
       "      <td>0.0</td>\n",
       "    </tr>\n",
       "    <tr>\n",
       "      <th>27075</th>\n",
       "      <td>transcript2556.chr8.nnic</td>\n",
       "      <td>0.0</td>\n",
       "      <td>3.0</td>\n",
       "      <td>0.0</td>\n",
       "    </tr>\n",
       "    <tr>\n",
       "      <th>34731</th>\n",
       "      <td>transcript24751.chr11.nnic</td>\n",
       "      <td>0.0</td>\n",
       "      <td>3.0</td>\n",
       "      <td>0.0</td>\n",
       "    </tr>\n",
       "    <tr>\n",
       "      <th>37201</th>\n",
       "      <td>transcript1326.chr12.nnic</td>\n",
       "      <td>0.0</td>\n",
       "      <td>8.0</td>\n",
       "      <td>0.0</td>\n",
       "    </tr>\n",
       "    <tr>\n",
       "      <th>42623</th>\n",
       "      <td>transcript1362.chr15.nnic</td>\n",
       "      <td>0.0</td>\n",
       "      <td>5.0</td>\n",
       "      <td>0.0</td>\n",
       "    </tr>\n",
       "  </tbody>\n",
       "</table>\n",
       "</div>"
      ],
      "text/plain": [
       "                      #feature_id  Sample 1  Sample 2  Sample 3\n",
       "9104    transcript24899.chr2.nnic       0.0       6.0       0.0\n",
       "9534     transcript3418.chr2.nnic       0.0       3.0       0.0\n",
       "12730   transcript16988.chr3.nnic       0.0       4.0       0.0\n",
       "24171   transcript14605.chr7.nnic       0.0       4.0       0.0\n",
       "27075    transcript2556.chr8.nnic       0.0       3.0       0.0\n",
       "34731  transcript24751.chr11.nnic       0.0       3.0       0.0\n",
       "37201   transcript1326.chr12.nnic       0.0       8.0       0.0\n",
       "42623   transcript1362.chr15.nnic       0.0       5.0       0.0"
      ]
     },
     "execution_count": 3,
     "metadata": {},
     "output_type": "execute_result"
    }
   ],
   "source": [
    "sample1 = transcript_counts[(transcript_counts['Sample 1'] != 0) & (transcript_counts['Sample 2'] == 0) & (transcript_counts['Sample 3'] == 0)]\n",
    "sample2 = transcript_counts[(transcript_counts['Sample 1'] == 0) & (transcript_counts['Sample 2'] != 0) & (transcript_counts['Sample 3'] == 0)]\n",
    "sample3 = transcript_counts[(transcript_counts['Sample 1'] == 0) & (transcript_counts['Sample 2'] == 0) & (transcript_counts['Sample 3'] != 0)]\n",
    "\n",
    "for name in [sample1,sample2,sample3]:\n",
    "    known_transcripts = len(name[name['#feature_id'].str.startswith('ENST')])\n",
    "    novel_transcripts = len(name[name['#feature_id'].str.startswith('transcript')])\n",
    "    print(' known: ', known_transcripts, ' novel: ', novel_transcripts)\n",
    "\n",
    "sample2[sample2['#feature_id'].str.startswith('transcript')]"
   ]
  },
  {
   "cell_type": "code",
   "execution_count": 5,
   "metadata": {},
   "outputs": [
    {
     "name": "stdout",
     "output_type": "stream",
     "text": [
      "Number of single sample transcripts in IRD genes:  141\n",
      "Number of novel single sample transcripts in IRD genes:  0\n"
     ]
    }
   ],
   "source": [
    "# How many of these transcripts belong to IRD genes?\n",
    "ird_genes = utils.ird_gene_list()\n",
    "isoforms = pd.read_csv('/mnt/xomics/tabear/atlas_paper/Neural-Retina-Atlas/data/transcriptomics/isoquant/isoquant_classification.tsv', sep = '\\t')\n",
    "\n",
    "isoforms_onesample = pd.concat([sample1,sample2,sample3])\n",
    "isoforms_onesample['#feature_id'] = isoforms_onesample['#feature_id'].str.upper()\n",
    "\n",
    "single_sample = isoforms[isoforms['isoform'].isin(isoforms_onesample['#feature_id'])]\n",
    "single_sample_ird = single_sample[single_sample['gene_symbol'].isin(ird_genes)]\n",
    "print('Number of single sample transcripts in IRD genes: ', len(single_sample_ird))\n",
    "\n",
    "novel_single_sample = single_sample_ird[single_sample_ird['isoform'].str.startswith('TRA')]\n",
    "print('Number of novel single sample transcripts in IRD genes: ', len(novel_single_sample))"
   ]
  },
  {
   "cell_type": "code",
   "execution_count": 6,
   "metadata": {},
   "outputs": [
    {
     "name": "stdout",
     "output_type": "stream",
     "text": [
      "average single sample transcript length:  1981.839716768587\n"
     ]
    },
    {
     "data": {
      "image/png": "[encoded data removed]",
      "text/plain": [
       "<Figure size 700x700 with 1 Axes>"
      ]
     },
     "metadata": {},
     "output_type": "display_data"
    }
   ],
   "source": [
    "# Expression and length of single sample transcripts\n",
    "print('average single sample transcript length: ', np.mean(single_sample['length']))\n",
    "\n",
    "ax = sns.displot(data=single_sample, x='length', alpha=0.7 , height=7, color = '#cb564f')\n",
    "plt.show()"
   ]
  },
  {
   "cell_type": "code",
   "execution_count": 7,
   "metadata": {},
   "outputs": [
    {
     "data": {
      "image/png": "[encoded data removed]",
      "text/plain": [
       "<Figure size 1000x600 with 1 Axes>"
      ]
     },
     "metadata": {},
     "output_type": "display_data"
    }
   ],
   "source": [
    "counts = single_sample['FL_count'].value_counts()\n",
    "\n",
    "# Sort the counts in ascending order\n",
    "counts_sorted = counts.sort_index()\n",
    "\n",
    "plt.figure(figsize=(10, 6))\n",
    "counts_sorted.plot(kind='bar', color='#567568')\n",
    "\n",
    "plt.yscale('log')\n",
    "plt.xlabel('FL Count')\n",
    "plt.ylabel('Frequency')\n",
    "plt.title('Frequency of FL Count in Single Sample')\n",
    "plt.xticks(rotation=45)  # Rotate x-axis labels for better readability\n",
    "plt.tight_layout()\n",
    "plt.show()"
   ]
  },
  {
   "cell_type": "code",
   "execution_count": 8,
   "metadata": {},
   "outputs": [
    {
     "data": {
      "text/plain": [
       "1.0      6806\n",
       "2.0      1583\n",
       "3.0       537\n",
       "4.0       194\n",
       "5.0        91\n",
       "6.0        33\n",
       "7.0        24\n",
       "8.0        20\n",
       "11.0        8\n",
       "9.0         8\n",
       "14.0        2\n",
       "15.0        2\n",
       "10.0        2\n",
       "12.0        2\n",
       "21.0        1\n",
       "283.0       1\n",
       "13.0        1\n",
       "36.0        1\n",
       "31.0        1\n",
       "20.0        1\n",
       "23.0        1\n",
       "17.0        1\n",
       "89.0        1\n",
       "Name: FL_count, dtype: int64"
      ]
     },
     "execution_count": 8,
     "metadata": {},
     "output_type": "execute_result"
    }
   ],
   "source": [
    "counts"
   ]
  },
  {
   "cell_type": "code",
   "execution_count": null,
   "metadata": {},
   "outputs": [],
   "source": [
    "6806/"
   ]
  }
 ],
 "metadata": {
  "kernelspec": {
   "display_name": "plots",
   "language": "python",
   "name": "python3"
  },
  "language_info": {
   "codemirror_mode": {
    "name": "ipython",
    "version": 3
   },
   "file_extension": ".py",
   "mimetype": "text/x-python",
   "name": "python",
   "nbconvert_exporter": "python",
   "pygments_lexer": "ipython3",
   "version": "3.11.2"
  }
 },
 "nbformat": 4,
 "nbformat_minor": 2
}
