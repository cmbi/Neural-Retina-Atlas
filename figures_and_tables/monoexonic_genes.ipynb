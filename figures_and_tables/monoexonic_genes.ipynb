{
 "cells": [
  {
   "cell_type": "code",
   "execution_count": 1,
   "metadata": {},
   "outputs": [],
   "source": [
    "import pandas as pd"
   ]
  },
  {
   "cell_type": "code",
   "execution_count": 2,
   "metadata": {},
   "outputs": [],
   "source": [
    "gtf_file = \"/mnt/xomics/tabear/atlas_paper/Neural-Retina-Atlas/data/ref_genome/gencode.v39.primary_assembly.annotation.gtf\"\n",
    "gtf_columns = [\"seqname\", \"source\", \"feature\", \"start\", \"end\", \"score\", \"strand\", \"frame\", \"attribute\"]\n",
    "gtf_df = pd.read_csv(gtf_file, sep='\\t', comment='#', header=None, names=gtf_columns)\n"
   ]
  },
  {
   "cell_type": "code",
   "execution_count": 12,
   "metadata": {},
   "outputs": [
    {
     "data": {
      "text/plain": [
       "'gene_id \"ENSG00000223972.5\"; gene_type \"transcribed_unprocessed_pseudogene\"; gene_name \"DDX11L1\"; level 2; hgnc_id \"HGNC:37102\"; havana_gene \"OTTHUMG00000000961.2\";'"
      ]
     },
     "execution_count": 12,
     "metadata": {},
     "output_type": "execute_result"
    }
   ],
   "source": [
    "gtf_df['attribute'][0]"
   ]
  },
  {
   "cell_type": "code",
   "execution_count": 22,
   "metadata": {},
   "outputs": [
    {
     "name": "stderr",
     "output_type": "stream",
     "text": [
      "/tmp/ipykernel_361148/2037249361.py:5: SettingWithCopyWarning: \n",
      "A value is trying to be set on a copy of a slice from a DataFrame.\n",
      "Try using .loc[row_indexer,col_indexer] = value instead\n",
      "\n",
      "See the caveats in the documentation: https://pandas.pydata.org/pandas-docs/stable/user_guide/indexing.html#returning-a-view-versus-a-copy\n",
      "  exons_df['gene_id'] = exons_df['attribute'].str.extract('gene_id \"([^\"]+)\"')\n"
     ]
    }
   ],
   "source": [
    "# Filter for exons only\n",
    "exons_df = gtf_df[gtf_df['feature'] == 'exon']\n",
    "\n",
    "# Extract gene_id from the attribute column\n",
    "exons_df['gene_id'] = exons_df['attribute'].str.extract('gene_id \"([^\"]+)\"')\n",
    "\n",
    "# Count the number of exons per gene\n",
    "exon_counts = exons_df.groupby('gene_id').size()\n",
    "\n",
    "# Filter for genes with only one exon\n",
    "single_exon_genes = exon_counts[exon_counts == 1].index\n",
    "\n",
    "#Filter the original GTF for these genes\n",
    "filtered_gtf_df = gtf_df[gtf_df['attribute'].str.contains('|'.join(single_exon_genes))]"
   ]
  },
  {
   "cell_type": "code",
   "execution_count": 33,
   "metadata": {},
   "outputs": [
    {
     "name": "stderr",
     "output_type": "stream",
     "text": [
      "/tmp/ipykernel_361148/403311177.py:3: SettingWithCopyWarning: \n",
      "A value is trying to be set on a copy of a slice from a DataFrame.\n",
      "Try using .loc[row_indexer,col_indexer] = value instead\n",
      "\n",
      "See the caveats in the documentation: https://pandas.pydata.org/pandas-docs/stable/user_guide/indexing.html#returning-a-view-versus-a-copy\n",
      "  genes['gene'] = genes['attribute'].str.extract('gene_id \"([^\"]+)\"')[0].apply(lambda x: x.split('.')[0])\n"
     ]
    },
    {
     "data": {
      "text/html": [
       "<div>\n",
       "<style scoped>\n",
       "    .dataframe tbody tr th:only-of-type {\n",
       "        vertical-align: middle;\n",
       "    }\n",
       "\n",
       "    .dataframe tbody tr th {\n",
       "        vertical-align: top;\n",
       "    }\n",
       "\n",
       "    .dataframe thead th {\n",
       "        text-align: right;\n",
       "    }\n",
       "</style>\n",
       "<table border=\"1\" class=\"dataframe\">\n",
       "  <thead>\n",
       "    <tr style=\"text-align: right;\">\n",
       "      <th></th>\n",
       "      <th>seqname</th>\n",
       "      <th>source</th>\n",
       "      <th>feature</th>\n",
       "      <th>start</th>\n",
       "      <th>end</th>\n",
       "      <th>score</th>\n",
       "      <th>strand</th>\n",
       "      <th>frame</th>\n",
       "      <th>attribute</th>\n",
       "      <th>gene</th>\n",
       "    </tr>\n",
       "  </thead>\n",
       "  <tbody>\n",
       "    <tr>\n",
       "      <th>25</th>\n",
       "      <td>chr1</td>\n",
       "      <td>ENSEMBL</td>\n",
       "      <td>gene</td>\n",
       "      <td>17369</td>\n",
       "      <td>17436</td>\n",
       "      <td>.</td>\n",
       "      <td>-</td>\n",
       "      <td>.</td>\n",
       "      <td>gene_id \"ENSG00000278267.1\"; gene_type \"miRNA\"...</td>\n",
       "      <td>ENSG00000278267</td>\n",
       "    </tr>\n",
       "    <tr>\n",
       "      <th>36</th>\n",
       "      <td>chr1</td>\n",
       "      <td>ENSEMBL</td>\n",
       "      <td>gene</td>\n",
       "      <td>30366</td>\n",
       "      <td>30503</td>\n",
       "      <td>.</td>\n",
       "      <td>+</td>\n",
       "      <td>.</td>\n",
       "      <td>gene_id \"ENSG00000284332.1\"; gene_type \"miRNA\"...</td>\n",
       "      <td>ENSG00000284332</td>\n",
       "    </tr>\n",
       "    <tr>\n",
       "      <th>47</th>\n",
       "      <td>chr1</td>\n",
       "      <td>HAVANA</td>\n",
       "      <td>gene</td>\n",
       "      <td>52473</td>\n",
       "      <td>53312</td>\n",
       "      <td>.</td>\n",
       "      <td>+</td>\n",
       "      <td>.</td>\n",
       "      <td>gene_id \"ENSG00000268020.3\"; gene_type \"unproc...</td>\n",
       "      <td>ENSG00000268020</td>\n",
       "    </tr>\n",
       "    <tr>\n",
       "      <th>96</th>\n",
       "      <td>chr1</td>\n",
       "      <td>HAVANA</td>\n",
       "      <td>gene</td>\n",
       "      <td>131025</td>\n",
       "      <td>134836</td>\n",
       "      <td>.</td>\n",
       "      <td>+</td>\n",
       "      <td>.</td>\n",
       "      <td>gene_id \"ENSG00000233750.3\"; gene_type \"proces...</td>\n",
       "      <td>ENSG00000233750</td>\n",
       "    </tr>\n",
       "    <tr>\n",
       "      <th>99</th>\n",
       "      <td>chr1</td>\n",
       "      <td>HAVANA</td>\n",
       "      <td>gene</td>\n",
       "      <td>135141</td>\n",
       "      <td>135895</td>\n",
       "      <td>.</td>\n",
       "      <td>-</td>\n",
       "      <td>.</td>\n",
       "      <td>gene_id \"ENSG00000268903.1\"; gene_type \"proces...</td>\n",
       "      <td>ENSG00000268903</td>\n",
       "    </tr>\n",
       "  </tbody>\n",
       "</table>\n",
       "</div>"
      ],
      "text/plain": [
       "   seqname   source feature   start     end score strand frame  \\\n",
       "25    chr1  ENSEMBL    gene   17369   17436     .      -     .   \n",
       "36    chr1  ENSEMBL    gene   30366   30503     .      +     .   \n",
       "47    chr1   HAVANA    gene   52473   53312     .      +     .   \n",
       "96    chr1   HAVANA    gene  131025  134836     .      +     .   \n",
       "99    chr1   HAVANA    gene  135141  135895     .      -     .   \n",
       "\n",
       "                                            attribute             gene  \n",
       "25  gene_id \"ENSG00000278267.1\"; gene_type \"miRNA\"...  ENSG00000278267  \n",
       "36  gene_id \"ENSG00000284332.1\"; gene_type \"miRNA\"...  ENSG00000284332  \n",
       "47  gene_id \"ENSG00000268020.3\"; gene_type \"unproc...  ENSG00000268020  \n",
       "96  gene_id \"ENSG00000233750.3\"; gene_type \"proces...  ENSG00000233750  \n",
       "99  gene_id \"ENSG00000268903.1\"; gene_type \"proces...  ENSG00000268903  "
      ]
     },
     "execution_count": 33,
     "metadata": {},
     "output_type": "execute_result"
    }
   ],
   "source": [
    "genes = filtered_gtf_df[filtered_gtf_df['feature'] == 'gene']\n",
    "# Extract gene_id and remove version numbers (if present)\n",
    "genes['gene'] = genes['attribute'].str.extract('gene_id \"([^\"]+)\"')[0].apply(lambda x: x.split('.')[0])\n",
    "genes.head()"
   ]
  },
  {
   "cell_type": "code",
   "execution_count": 28,
   "metadata": {},
   "outputs": [],
   "source": [
    "# Save the filtered GTF\n",
    "genes.to_csv(\"single_exon_genes.gtf\", sep='\\t', index=False, header=False)"
   ]
  },
  {
   "cell_type": "code",
   "execution_count": 34,
   "metadata": {},
   "outputs": [
    {
     "data": {
      "text/html": [
       "<div>\n",
       "<style scoped>\n",
       "    .dataframe tbody tr th:only-of-type {\n",
       "        vertical-align: middle;\n",
       "    }\n",
       "\n",
       "    .dataframe tbody tr th {\n",
       "        vertical-align: top;\n",
       "    }\n",
       "\n",
       "    .dataframe thead th {\n",
       "        text-align: right;\n",
       "    }\n",
       "</style>\n",
       "<table border=\"1\" class=\"dataframe\">\n",
       "  <thead>\n",
       "    <tr style=\"text-align: right;\">\n",
       "      <th></th>\n",
       "      <th>Unnamed: 0</th>\n",
       "      <th>isoform</th>\n",
       "      <th>length</th>\n",
       "      <th>structural_category</th>\n",
       "      <th>associated_gene</th>\n",
       "      <th>associated_transcript</th>\n",
       "      <th>subcategory</th>\n",
       "      <th>FL_count</th>\n",
       "      <th>gene_symbol</th>\n",
       "    </tr>\n",
       "  </thead>\n",
       "  <tbody>\n",
       "    <tr>\n",
       "      <th>0</th>\n",
       "      <td>0</td>\n",
       "      <td>TRANSCRIPT39.CHR1.NNIC</td>\n",
       "      <td>3095</td>\n",
       "      <td>novel_not_in_catalog</td>\n",
       "      <td>ENSG00000227232</td>\n",
       "      <td>TRANSCRIPT39.CHR1.NNIC</td>\n",
       "      <td>intron_alternation_novel:14830-14969,exon_gain...</td>\n",
       "      <td>8.0</td>\n",
       "      <td>WASH7P</td>\n",
       "    </tr>\n",
       "    <tr>\n",
       "      <th>1</th>\n",
       "      <td>1</td>\n",
       "      <td>TRANSCRIPT89.CHR1.NNIC</td>\n",
       "      <td>7549</td>\n",
       "      <td>novel_not_in_catalog</td>\n",
       "      <td>ENSG00000227232</td>\n",
       "      <td>TRANSCRIPT89.CHR1.NNIC</td>\n",
       "      <td>intron_alternation_novel:14830-14969,alt_donor...</td>\n",
       "      <td>22.0</td>\n",
       "      <td>WASH7P</td>\n",
       "    </tr>\n",
       "    <tr>\n",
       "      <th>2</th>\n",
       "      <td>2</td>\n",
       "      <td>TRANSCRIPT91.CHR1.NNIC</td>\n",
       "      <td>1796</td>\n",
       "      <td>novel_not_in_catalog</td>\n",
       "      <td>ENSG00000227232</td>\n",
       "      <td>TRANSCRIPT91.CHR1.NNIC</td>\n",
       "      <td>intron_alternation_novel:14830-14969,terminal_...</td>\n",
       "      <td>21.0</td>\n",
       "      <td>WASH7P</td>\n",
       "    </tr>\n",
       "    <tr>\n",
       "      <th>3</th>\n",
       "      <td>3</td>\n",
       "      <td>ENST00000469289.1</td>\n",
       "      <td>535</td>\n",
       "      <td>full-splice_match</td>\n",
       "      <td>ENSG00000243485</td>\n",
       "      <td>ENST00000469289.1</td>\n",
       "      <td>NaN</td>\n",
       "      <td>1.0</td>\n",
       "      <td>MIR1302-2HG</td>\n",
       "    </tr>\n",
       "    <tr>\n",
       "      <th>4</th>\n",
       "      <td>4</td>\n",
       "      <td>ENST00000417324.1</td>\n",
       "      <td>1187</td>\n",
       "      <td>full-splice_match</td>\n",
       "      <td>ENSG00000237613</td>\n",
       "      <td>ENST00000417324.1</td>\n",
       "      <td>NaN</td>\n",
       "      <td>125.0</td>\n",
       "      <td>FAM138A</td>\n",
       "    </tr>\n",
       "  </tbody>\n",
       "</table>\n",
       "</div>"
      ],
      "text/plain": [
       "   Unnamed: 0                 isoform  length   structural_category  \\\n",
       "0           0  TRANSCRIPT39.CHR1.NNIC    3095  novel_not_in_catalog   \n",
       "1           1  TRANSCRIPT89.CHR1.NNIC    7549  novel_not_in_catalog   \n",
       "2           2  TRANSCRIPT91.CHR1.NNIC    1796  novel_not_in_catalog   \n",
       "3           3       ENST00000469289.1     535     full-splice_match   \n",
       "4           4       ENST00000417324.1    1187     full-splice_match   \n",
       "\n",
       "   associated_gene   associated_transcript  \\\n",
       "0  ENSG00000227232  TRANSCRIPT39.CHR1.NNIC   \n",
       "1  ENSG00000227232  TRANSCRIPT89.CHR1.NNIC   \n",
       "2  ENSG00000227232  TRANSCRIPT91.CHR1.NNIC   \n",
       "3  ENSG00000243485       ENST00000469289.1   \n",
       "4  ENSG00000237613       ENST00000417324.1   \n",
       "\n",
       "                                         subcategory  FL_count  gene_symbol  \n",
       "0  intron_alternation_novel:14830-14969,exon_gain...       8.0       WASH7P  \n",
       "1  intron_alternation_novel:14830-14969,alt_donor...      22.0       WASH7P  \n",
       "2  intron_alternation_novel:14830-14969,terminal_...      21.0       WASH7P  \n",
       "3                                                NaN       1.0  MIR1302-2HG  \n",
       "4                                                NaN     125.0      FAM138A  "
      ]
     },
     "execution_count": 34,
     "metadata": {},
     "output_type": "execute_result"
    }
   ],
   "source": [
    "isoquant = pd.read_csv('/mnt/xomics/tabear/atlas_paper/Neural-Retina-Atlas/data/transcriptomics/isoquant/isoquant_classification.tsv', sep = '\\t')\n",
    "isoquant.head()"
   ]
  },
  {
   "cell_type": "code",
   "execution_count": 37,
   "metadata": {},
   "outputs": [],
   "source": [
    "monoexonic = isoquant[isoquant['associated_gene'].isin(genes['gene'])]\n",
    "monoexonic.to_csv('monoexonic_isoquant.tsv', sep = '\\t', index = False)"
   ]
  },
  {
   "cell_type": "code",
   "execution_count": null,
   "metadata": {},
   "outputs": [],
   "source": []
  }
 ],
 "metadata": {
  "kernelspec": {
   "display_name": "plots",
   "language": "python",
   "name": "python3"
  },
  "language_info": {
   "codemirror_mode": {
    "name": "ipython",
    "version": 3
   },
   "file_extension": ".py",
   "mimetype": "text/x-python",
   "name": "python",
   "nbconvert_exporter": "python",
   "pygments_lexer": "ipython3",
   "version": "3.11.2"
  }
 },
 "nbformat": 4,
 "nbformat_minor": 2
}
