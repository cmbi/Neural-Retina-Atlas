{
 "cells": [
  {
   "cell_type": "code",
   "execution_count": 2,
   "metadata": {},
   "outputs": [],
   "source": [
    "import pandas as pd\n",
    "import matplotlib.pyplot as plt\n",
    "from matplotlib_venn import venn3"
   ]
  },
  {
   "cell_type": "code",
   "execution_count": 4,
   "metadata": {},
   "outputs": [
    {
     "name": "stdout",
     "output_type": "stream",
     "text": [
      "18432\n",
      "18421\n",
      "18421\n",
      "18421\n"
     ]
    },
    {
     "data": {
      "text/html": [
       "<div>\n",
       "<style scoped>\n",
       "    .dataframe tbody tr th:only-of-type {\n",
       "        vertical-align: middle;\n",
       "    }\n",
       "\n",
       "    .dataframe tbody tr th {\n",
       "        vertical-align: top;\n",
       "    }\n",
       "\n",
       "    .dataframe thead th {\n",
       "        text-align: right;\n",
       "    }\n",
       "</style>\n",
       "<table border=\"1\" class=\"dataframe\">\n",
       "  <thead>\n",
       "    <tr style=\"text-align: right;\">\n",
       "      <th></th>\n",
       "      <th>pep</th>\n",
       "      <th>pb_acc</th>\n",
       "      <th>prev_aa</th>\n",
       "      <th>next_aa</th>\n",
       "    </tr>\n",
       "  </thead>\n",
       "  <tbody>\n",
       "    <tr>\n",
       "      <th>0</th>\n",
       "      <td>AAAAAAAAAAGAAGGR</td>\n",
       "      <td>PABPN1-201</td>\n",
       "      <td>M</td>\n",
       "      <td>G</td>\n",
       "    </tr>\n",
       "    <tr>\n",
       "      <th>0</th>\n",
       "      <td>AAAAAAAAAAGAAGGR</td>\n",
       "      <td>PABPN1-202</td>\n",
       "      <td>M</td>\n",
       "      <td>G</td>\n",
       "    </tr>\n",
       "    <tr>\n",
       "      <th>1</th>\n",
       "      <td>AAAAAAAAAPAAAATAPTTAATTAATAAQ</td>\n",
       "      <td>SRP14-201</td>\n",
       "      <td>K</td>\n",
       "      <td>-</td>\n",
       "    </tr>\n",
       "    <tr>\n",
       "      <th>1</th>\n",
       "      <td>AAAAAAAAAPAAAATAPTTAATTAATAAQ</td>\n",
       "      <td>SRP14-204</td>\n",
       "      <td>K</td>\n",
       "      <td>-</td>\n",
       "    </tr>\n",
       "    <tr>\n",
       "      <th>1</th>\n",
       "      <td>AAAAAAAAAPAAAATAPTTAATTAATAAQ</td>\n",
       "      <td>ENST00000267884.11</td>\n",
       "      <td>K</td>\n",
       "      <td>-</td>\n",
       "    </tr>\n",
       "  </tbody>\n",
       "</table>\n",
       "</div>"
      ],
      "text/plain": [
       "                             pep              pb_acc prev_aa next_aa\n",
       "0               AAAAAAAAAAGAAGGR          PABPN1-201       M       G\n",
       "0               AAAAAAAAAAGAAGGR          PABPN1-202       M       G\n",
       "1  AAAAAAAAAPAAAATAPTTAATTAATAAQ           SRP14-201       K       -\n",
       "1  AAAAAAAAAPAAAATAPTTAATTAATAAQ           SRP14-204       K       -\n",
       "1  AAAAAAAAAPAAAATAPTTAATTAATAAQ  ENST00000267884.11       K       -"
      ]
     },
     "execution_count": 4,
     "metadata": {},
     "output_type": "execute_result"
    }
   ],
   "source": [
    "# Load the data\n",
    "pep = pd.read_csv('../results/16a_MSFragger_trypsin/peptide.tsv', sep='\\t')\n",
    "pep = pep[['Peptide','Protein', 'Mapped Proteins', 'Probability', 'Prev AA', 'Next AA']]\n",
    "pep.columns = ['pep', 'main_protein', 'additional_proteins', 'prob', 'prev_aa','next_aa']\n",
    "pep['pb_acc'] = pep['main_protein'].str.cat(pep['additional_proteins'], sep = ', ')\n",
    "pep.pb_acc.fillna(pep.main_protein, inplace=True)\n",
    "print(len(pep.index))\n",
    "pep = pep[pep[\"pb_acc\"].str.startswith(\"sp\") == False]\n",
    "print(len(pep.index))\n",
    "pep['pb_acc'] = pep['pb_acc'].str.split(',')\n",
    "accessions = pep['pb_acc']\n",
    "mapped_proteins = []\n",
    "for i in accessions:\n",
    "    mapped_proteins.append([j.split('|')[1] for j in i if 'sp' not in j])\n",
    "pep['pb_acc'] = mapped_proteins\n",
    "pep = pep[['pep', 'pb_acc', 'prev_aa','next_aa']]\n",
    "pep = pep.explode('pb_acc')\n",
    "pep.head()"
   ]
  },
  {
   "cell_type": "code",
   "execution_count": 45,
   "metadata": {},
   "outputs": [
    {
     "name": "stdout",
     "output_type": "stream",
     "text": [
      "       DDX11L1      DDX11L1-202\n",
      "0      DDX11L1      DDX11L1-201\n",
      "1       WASH7P       WASH7P-201\n",
      "2    MIR6859-1    MIR6859-1-201\n",
      "3  MIR1302-2HG  MIR1302-2HG-202\n",
      "4  MIR1302-2HG  MIR1302-2HG-201\n"
     ]
    },
    {
     "ename": "AttributeError",
     "evalue": "'DataFrame' object has no attribute 'pr_gene'",
     "output_type": "error",
     "traceback": [
      "\u001b[0;31m---------------------------------------------------------------------------\u001b[0m",
      "\u001b[0;31mAttributeError\u001b[0m                            Traceback (most recent call last)",
      "\u001b[1;32m/Users/tabea/mnt/xomics/tabear/pacbio/atlas_paper/isoquant/isoquant_3.1.1/lrp/modules/test_make_peptide_gtf.ipynb Cell 3\u001b[0m in \u001b[0;36m<cell line: 3>\u001b[0;34m()\u001b[0m\n\u001b[1;32m      <a href='vscode-notebook-cell:/Users/tabea/mnt/xomics/tabear/pacbio/atlas_paper/isoquant/isoquant_3.1.1/lrp/modules/test_make_peptide_gtf.ipynb#X12sZmlsZQ%3D%3D?line=0'>1</a>\u001b[0m pb_gene \u001b[39m=\u001b[39m pd\u001b[39m.\u001b[39mread_table(\u001b[39m'\u001b[39m\u001b[39m../results/1_make_gencode_database/gene_isoname.tsv\u001b[39m\u001b[39m'\u001b[39m)\n\u001b[1;32m      <a href='vscode-notebook-cell:/Users/tabea/mnt/xomics/tabear/pacbio/atlas_paper/isoquant/isoquant_3.1.1/lrp/modules/test_make_peptide_gtf.ipynb#X12sZmlsZQ%3D%3D?line=1'>2</a>\u001b[0m \u001b[39mprint\u001b[39m(pb_gene\u001b[39m.\u001b[39mhead())\n\u001b[0;32m----> <a href='vscode-notebook-cell:/Users/tabea/mnt/xomics/tabear/pacbio/atlas_paper/isoquant/isoquant_3.1.1/lrp/modules/test_make_peptide_gtf.ipynb#X12sZmlsZQ%3D%3D?line=2'>3</a>\u001b[0m pb_gene \u001b[39m=\u001b[39m pd\u001b[39m.\u001b[39mSeries(pb_gene\u001b[39m.\u001b[39;49mpr_gene\u001b[39m.\u001b[39mvalues, index\u001b[39m=\u001b[39mpb_gene\u001b[39m.\u001b[39mpb)\u001b[39m.\u001b[39mto_dict()\n\u001b[1;32m      <a href='vscode-notebook-cell:/Users/tabea/mnt/xomics/tabear/pacbio/atlas_paper/isoquant/isoquant_3.1.1/lrp/modules/test_make_peptide_gtf.ipynb#X12sZmlsZQ%3D%3D?line=3'>4</a>\u001b[0m gene_isoname \u001b[39m=\u001b[39m pd\u001b[39m.\u001b[39mread_table(\u001b[39m'\u001b[39m\u001b[39m../results/1_make_gencode_database/gene_isoname.tsv\u001b[39m\u001b[39m'\u001b[39m, names\u001b[39m=\u001b[39m[\u001b[39m'\u001b[39m\u001b[39mgene\u001b[39m\u001b[39m'\u001b[39m,\u001b[39m'\u001b[39m\u001b[39misoname\u001b[39m\u001b[39m'\u001b[39m])\n\u001b[1;32m      <a href='vscode-notebook-cell:/Users/tabea/mnt/xomics/tabear/pacbio/atlas_paper/isoquant/isoquant_3.1.1/lrp/modules/test_make_peptide_gtf.ipynb#X12sZmlsZQ%3D%3D?line=4'>5</a>\u001b[0m gene_isoname \u001b[39m=\u001b[39m pd\u001b[39m.\u001b[39mSeries(gene_isoname\u001b[39m.\u001b[39mgene\u001b[39m.\u001b[39mvalues, index\u001b[39m=\u001b[39mgene_isoname\u001b[39m.\u001b[39misoname)\u001b[39m.\u001b[39mto_dict()\n",
      "File \u001b[0;32m~/opt/anaconda3/envs/atlas/lib/python3.10/site-packages/pandas/core/generic.py:5583\u001b[0m, in \u001b[0;36mNDFrame.__getattr__\u001b[0;34m(self, name)\u001b[0m\n\u001b[1;32m   5576\u001b[0m \u001b[39mif\u001b[39;00m (\n\u001b[1;32m   5577\u001b[0m     name \u001b[39mnot\u001b[39;00m \u001b[39min\u001b[39;00m \u001b[39mself\u001b[39m\u001b[39m.\u001b[39m_internal_names_set\n\u001b[1;32m   5578\u001b[0m     \u001b[39mand\u001b[39;00m name \u001b[39mnot\u001b[39;00m \u001b[39min\u001b[39;00m \u001b[39mself\u001b[39m\u001b[39m.\u001b[39m_metadata\n\u001b[1;32m   5579\u001b[0m     \u001b[39mand\u001b[39;00m name \u001b[39mnot\u001b[39;00m \u001b[39min\u001b[39;00m \u001b[39mself\u001b[39m\u001b[39m.\u001b[39m_accessors\n\u001b[1;32m   5580\u001b[0m     \u001b[39mand\u001b[39;00m \u001b[39mself\u001b[39m\u001b[39m.\u001b[39m_info_axis\u001b[39m.\u001b[39m_can_hold_identifiers_and_holds_name(name)\n\u001b[1;32m   5581\u001b[0m ):\n\u001b[1;32m   5582\u001b[0m     \u001b[39mreturn\u001b[39;00m \u001b[39mself\u001b[39m[name]\n\u001b[0;32m-> 5583\u001b[0m \u001b[39mreturn\u001b[39;00m \u001b[39mobject\u001b[39;49m\u001b[39m.\u001b[39;49m\u001b[39m__getattribute__\u001b[39;49m(\u001b[39mself\u001b[39;49m, name)\n",
      "\u001b[0;31mAttributeError\u001b[0m: 'DataFrame' object has no attribute 'pr_gene'"
     ]
    }
   ],
   "source": [
    "pb_gene = pd.read_table('../results/1_make_gencode_database/gene_isoname.tsv')\n",
    "print(pb_gene.head())\n",
    "pb_gene = pd.Series(pb_gene.pr_gene.values, index=pb_gene.pb).to_dict()\n",
    "gene_isoname = pd.read_table('../results/1_make_gencode_database/gene_isoname.tsv', names=['gene','isoname'])\n",
    "gene_isoname = pd.Series(gene_isoname.gene.values, index=gene_isoname.isoname).to_dict()\n",
    "gene_map = {**pb_gene, **gene_isoname}\n",
    "\n",
    "pep =  pd.read_csv('/Users/tabea/mnt/xomics/tabear/pacbio/atlas_paper/lrp_cupcake/metamorpheus/search_results/Task1SearchTask/AllPeptides.psmtsv', sep='\\t')\n",
    "pep = pep[['Base Sequence','Protein Accession','Decoy/Contaminant/Target','QValue', 'Previous Amino Acid', 'Next Amino Acid']]\n",
    "pep.columns = ['pep', 'pb_acc', 'targ', 'qval', 'prev_aa','next_aa']\n",
    "# TODO add back in proper filter\n",
    "# pep = pep[pep.targ == 'T']\n",
    "pep = pep[(pep.targ =='T') & (pep.qval <= 0.01)]\n",
    "# for now, all accessions\n",
    "# TODO - decide how to deal with multiple PBs mapped to peptide\n",
    "pep['pb_acc'] = pep['pb_acc'].str.split('|')\n",
    "pep = pep[['pep', 'pb_acc', 'prev_aa','next_aa']]\n",
    "pep = pep.explode('pb_acc')\n",
    "pep['gene'] = pep['pb_acc'].map(gene_map)\n",
    "pep.head()"
   ]
  },
  {
   "cell_type": "code",
   "execution_count": null,
   "metadata": {},
   "outputs": [],
   "source": []
  }
 ],
 "metadata": {
  "kernelspec": {
   "display_name": "atlas",
   "language": "python",
   "name": "python3"
  },
  "language_info": {
   "codemirror_mode": {
    "name": "ipython",
    "version": 3
   },
   "file_extension": ".py",
   "mimetype": "text/x-python",
   "name": "python",
   "nbconvert_exporter": "python",
   "pygments_lexer": "ipython3",
   "version": "3.10.2"
  },
  "orig_nbformat": 4,
  "vscode": {
   "interpreter": {
    "hash": "9cf7e0729e1f91f79584cbbd880e6da75b05d10d419af478b6b5d94b35f50e0d"
   }
  }
 },
 "nbformat": 4,
 "nbformat_minor": 2
}
